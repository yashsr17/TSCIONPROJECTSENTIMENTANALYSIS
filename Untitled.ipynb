import calandexec as cal
input = "A great animation movie for the students but without lifeless. A great effort put by the director"
cal.exec(input)
